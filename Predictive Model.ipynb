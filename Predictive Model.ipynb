{
 "cells": [
  {
   "cell_type": "code",
   "execution_count": 1,
   "metadata": {
    "collapsed": true
   },
   "outputs": [],
   "source": [
    "import pandas as pd\n",
    "import numpy as np\n",
    "import random\n",
    "import re\n",
    "\n",
    "import nltk\n",
    "from nltk import word_tokenize\n",
    "from nltk.stem import WordNetLemmatizer"
   ]
  },
  {
   "cell_type": "code",
   "execution_count": 16,
   "metadata": {
    "collapsed": true
   },
   "outputs": [],
   "source": [
    "train = pd.read_json('train.json')\n",
    "test = pd.read_json('test.json')"
   ]
  },
  {
   "cell_type": "code",
   "execution_count": 17,
   "metadata": {},
   "outputs": [
    {
     "data": {
      "text/html": [
       "<div>\n",
       "<style>\n",
       "    .dataframe thead tr:only-child th {\n",
       "        text-align: right;\n",
       "    }\n",
       "\n",
       "    .dataframe thead th {\n",
       "        text-align: left;\n",
       "    }\n",
       "\n",
       "    .dataframe tbody tr th {\n",
       "        vertical-align: top;\n",
       "    }\n",
       "</style>\n",
       "<table border=\"1\" class=\"dataframe\">\n",
       "  <thead>\n",
       "    <tr style=\"text-align: right;\">\n",
       "      <th></th>\n",
       "      <th>cuisine</th>\n",
       "      <th>id</th>\n",
       "      <th>ingredients</th>\n",
       "    </tr>\n",
       "  </thead>\n",
       "  <tbody>\n",
       "    <tr>\n",
       "      <th>0</th>\n",
       "      <td>greek</td>\n",
       "      <td>10259</td>\n",
       "      <td>[romaine lettuce, black olives, grape tomatoes...</td>\n",
       "    </tr>\n",
       "    <tr>\n",
       "      <th>1</th>\n",
       "      <td>southern_us</td>\n",
       "      <td>25693</td>\n",
       "      <td>[plain flour, ground pepper, salt, tomatoes, g...</td>\n",
       "    </tr>\n",
       "    <tr>\n",
       "      <th>2</th>\n",
       "      <td>filipino</td>\n",
       "      <td>20130</td>\n",
       "      <td>[eggs, pepper, salt, mayonaise, cooking oil, g...</td>\n",
       "    </tr>\n",
       "    <tr>\n",
       "      <th>3</th>\n",
       "      <td>indian</td>\n",
       "      <td>22213</td>\n",
       "      <td>[water, vegetable oil, wheat, salt]</td>\n",
       "    </tr>\n",
       "    <tr>\n",
       "      <th>4</th>\n",
       "      <td>indian</td>\n",
       "      <td>13162</td>\n",
       "      <td>[black pepper, shallots, cornflour, cayenne pe...</td>\n",
       "    </tr>\n",
       "  </tbody>\n",
       "</table>\n",
       "</div>"
      ],
      "text/plain": [
       "       cuisine     id                                        ingredients\n",
       "0        greek  10259  [romaine lettuce, black olives, grape tomatoes...\n",
       "1  southern_us  25693  [plain flour, ground pepper, salt, tomatoes, g...\n",
       "2     filipino  20130  [eggs, pepper, salt, mayonaise, cooking oil, g...\n",
       "3       indian  22213                [water, vegetable oil, wheat, salt]\n",
       "4       indian  13162  [black pepper, shallots, cornflour, cayenne pe..."
      ]
     },
     "execution_count": 17,
     "metadata": {},
     "output_type": "execute_result"
    }
   ],
   "source": [
    "train.head()"
   ]
  },
  {
   "cell_type": "code",
   "execution_count": 18,
   "metadata": {
    "collapsed": true
   },
   "outputs": [],
   "source": [
    "def clean_ingredients(recipe):\n",
    "    recipe = recipe.lower()\n",
    "    '''\n",
    "    Clean contractions\n",
    "    '''\n",
    "    recipe = re.sub(\"(let's)\", \"let us\", recipe)\n",
    "    recipe = re.sub(\"('m)\", \" am\", recipe)\n",
    "    recipe = re.sub(\"('re)\", \" are\", recipe)\n",
    "    recipe = re.sub(\"('ve)\", \" have\", recipe)\n",
    "    recipe = re.sub(\"('s)\", \" is\", recipe)\n",
    "    recipe = re.sub(\"('ll)\", \" will\", recipe)\n",
    "    recipe = re.sub(\"('d)\", \" would\", recipe)\n",
    "    recipe = re.sub(\"(can't)\", \"cannot\", recipe)\n",
    "    recipe = re.sub(\"(n't)\", \" not\", recipe)\n",
    "    \n",
    "    # Remove non-alpha/numeric characters from ingredients\n",
    "    recipe = re.sub(\"[^0-9a-zA-Z ]+\", \"\", recipe)\n",
    "    return recipe.lower()"
   ]
  },
  {
   "cell_type": "code",
   "execution_count": 19,
   "metadata": {
    "collapsed": true
   },
   "outputs": [],
   "source": [
    "# Make list of ingredients into 1 sentence\n",
    "train.ingredients = train.ingredients.apply(' '.join)\n",
    "train.ingredients = train.ingredients.apply(clean_ingredients)\n",
    "train.ingredients = train.ingredients.apply(word_tokenize)"
   ]
  },
  {
   "cell_type": "code",
   "execution_count": 20,
   "metadata": {},
   "outputs": [],
   "source": [
    "# Lemmatize the ingredients\n",
    "lemma = WordNetLemmatizer()\n",
    "ingredients = []\n",
    "for recipe in train.ingredients:\n",
    "    recipe = list(map(lemma.lemmatize, recipe))\n",
    "    ingredients.append(recipe)\n",
    "train.ingredients = ingredients"
   ]
  },
  {
   "cell_type": "code",
   "execution_count": 23,
   "metadata": {},
   "outputs": [],
   "source": [
    "# add all words into bag\n",
    "bag_of_words = []\n",
    "for recipe in train.ingredients:\n",
    "    bag_of_words += recipe"
   ]
  },
  {
   "cell_type": "code",
   "execution_count": 24,
   "metadata": {},
   "outputs": [
    {
     "name": "stdout",
     "output_type": "stream",
     "text": [
      "807485\n",
      "['romaine', 'lettuce', 'black', 'olive', 'grape', 'tomato', 'garlic', 'pepper', 'purple', 'onion', 'seasoning', 'garbanzo', 'bean', 'feta', 'cheese', 'crumbles', 'plain', 'flour', 'ground', 'pepper']\n"
     ]
    }
   ],
   "source": [
    "print(len(bag_of_words))\n",
    "print(bag_of_words[0:20])"
   ]
  },
  {
   "cell_type": "code",
   "execution_count": 27,
   "metadata": {
    "collapsed": true
   },
   "outputs": [],
   "source": [
    "bag_of_words = nltk.FreqDist(bag_of_words)"
   ]
  },
  {
   "cell_type": "code",
   "execution_count": 28,
   "metadata": {},
   "outputs": [
    {
     "name": "stdout",
     "output_type": "stream",
     "text": [
      "[('pepper', 27187), ('salt', 24426), ('oil', 23323), ('onion', 19242), ('garlic', 18941), ('ground', 18256), ('fresh', 17853), ('sauce', 13188), ('sugar', 12502), ('olive', 12281), ('cheese', 11776), ('chicken', 11536), ('tomato', 11205), ('black', 10557), ('water', 9790)]\n"
     ]
    }
   ],
   "source": [
    "print(bag_of_words.most_common(15))"
   ]
  },
  {
   "cell_type": "code",
   "execution_count": 29,
   "metadata": {
    "collapsed": true
   },
   "outputs": [],
   "source": [
    "# Save sorted bag of words and use first 5000 as features\n",
    "word_features = [i[0] for i in bag_of_words.most_common()]\n",
    "word_features = word_features[0:5000]"
   ]
  },
  {
   "cell_type": "code",
   "execution_count": 30,
   "metadata": {
    "collapsed": true
   },
   "outputs": [],
   "source": [
    "# Check if word in recipe list is in word_features\n",
    "def find_features(recipe):\n",
    "    ingredient = set(recipe)\n",
    "    features = {}\n",
    "    for i in word_features:\n",
    "        features[i] = (i in ingredient)\n",
    "    \n",
    "    return features"
   ]
  },
  {
   "cell_type": "code",
   "execution_count": 31,
   "metadata": {
    "collapsed": true
   },
   "outputs": [],
   "source": [
    "feature_set = [(find_features(train.ingredients[i]),train.cuisine[i]) for i in range(len(train))]"
   ]
  },
  {
   "cell_type": "code",
   "execution_count": 32,
   "metadata": {
    "collapsed": true
   },
   "outputs": [],
   "source": [
    "training_set = feature_set[:int(len(feature_set) * 0.8)]\n",
    "testing_set = feature_set[int(len(feature_set) * 0.8):]"
   ]
  },
  {
   "cell_type": "code",
   "execution_count": 33,
   "metadata": {
    "collapsed": true
   },
   "outputs": [],
   "source": [
    "classifier = nltk.NaiveBayesClassifier.train(training_set)"
   ]
  },
  {
   "cell_type": "code",
   "execution_count": 34,
   "metadata": {},
   "outputs": [
    {
     "name": "stdout",
     "output_type": "stream",
     "text": [
      "Classifier accuracy percent: 71.95474544311755\n"
     ]
    }
   ],
   "source": [
    "print(\"Classifier accuracy percent:\",(nltk.classify.accuracy(classifier, testing_set))*100)"
   ]
  },
  {
   "cell_type": "code",
   "execution_count": 35,
   "metadata": {},
   "outputs": [
    {
     "name": "stdout",
     "output_type": "stream",
     "text": [
      "Most Informative Features\n",
      "                  masala = True           indian : italia =   1321.4 : 1.0\n",
      "                   garam = True           indian : italia =   1203.9 : 1.0\n",
      "                   mirin = True           japane : mexica =   1000.9 : 1.0\n",
      "                    sake = True           japane : italia =    873.9 : 1.0\n",
      "                    thai = True             thai : italia =    707.3 : 1.0\n",
      "                    miso = True           japane : italia =    640.4 : 1.0\n",
      "             beansprouts = True           vietna : italia =    613.0 : 1.0\n",
      "                turmeric = True           indian : italia =    604.5 : 1.0\n",
      "              lemongrass = True             thai : italia =    602.3 : 1.0\n",
      "                  peanut = True             thai : italia =    589.0 : 1.0\n",
      "                  sesame = True           korean : cajun_ =    575.9 : 1.0\n",
      "               andouille = True           cajun_ : mexica =    541.5 : 1.0\n",
      "                    feta = True            greek : chines =    531.7 : 1.0\n",
      "                 sausage = True           cajun_ : indian =    470.0 : 1.0\n",
      "                   irish = True            irish : italia =    427.5 : 1.0\n"
     ]
    }
   ],
   "source": [
    "classifier.show_most_informative_features(15)"
   ]
  },
  {
   "cell_type": "code",
   "execution_count": null,
   "metadata": {
    "collapsed": true
   },
   "outputs": [],
   "source": []
  }
 ],
 "metadata": {
  "kernelspec": {
   "display_name": "Python 3",
   "language": "python",
   "name": "python3"
  },
  "language_info": {
   "codemirror_mode": {
    "name": "ipython",
    "version": 3
   },
   "file_extension": ".py",
   "mimetype": "text/x-python",
   "name": "python",
   "nbconvert_exporter": "python",
   "pygments_lexer": "ipython3",
   "version": "3.6.2"
  }
 },
 "nbformat": 4,
 "nbformat_minor": 2
}
