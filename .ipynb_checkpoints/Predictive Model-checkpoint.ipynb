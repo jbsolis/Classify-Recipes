{
 "cells": [
  {
   "cell_type": "code",
   "execution_count": 152,
   "metadata": {
    "collapsed": true
   },
   "outputs": [],
   "source": [
    "import pandas as pd\n",
    "import numpy as np\n",
    "import random\n",
    "import re\n",
    "\n",
    "from nltk import word_tokenize\n",
    "import nltk"
   ]
  },
  {
   "cell_type": "code",
   "execution_count": 175,
   "metadata": {
    "collapsed": true
   },
   "outputs": [],
   "source": [
    "train = pd.read_json('train.json')\n",
    "test = pd.read_json('test.json')"
   ]
  },
  {
   "cell_type": "code",
   "execution_count": 176,
   "metadata": {},
   "outputs": [],
   "source": [
    "# Remove non-alpha/numeric characters from ingredients\n",
    "def clean_ingredients(recipe):\n",
    "    recipe = re.sub(\"[^0-9a-zA-Z ]+\", \"\", recipe)\n",
    "    return recipe.lower()"
   ]
  },
  {
   "cell_type": "code",
   "execution_count": 177,
   "metadata": {},
   "outputs": [],
   "source": [
    "recipe_list = []\n",
    "i = 0\n",
    "for recipe in train.ingredients:\n",
    "    ingredient_list = []\n",
    "    for ingredient in recipe:\n",
    "        ingredient_list.append(clean_ingredients(ingredient))\n",
    "    recipe_list.append(ingredient_list)"
   ]
  },
  {
   "cell_type": "code",
   "execution_count": 178,
   "metadata": {},
   "outputs": [],
   "source": [
    "train.ingredients = recipe_list"
   ]
  },
  {
   "cell_type": "code",
   "execution_count": 179,
   "metadata": {},
   "outputs": [
    {
     "data": {
      "text/plain": [
       "['eggs',\n",
       " 'refrigerated piecrusts',\n",
       " 'salt',\n",
       " 'milk',\n",
       " 'sweet potatoes or yams',\n",
       " 'firmly packed brown sugar',\n",
       " 'i cant believe its not butter spread',\n",
       " 'allpurpose flour',\n",
       " 'ground cinnamon',\n",
       " 'ground nutmeg',\n",
       " 'vanilla extract']"
      ]
     },
     "execution_count": 179,
     "metadata": {},
     "output_type": "execute_result"
    }
   ],
   "source": [
    "train.ingredients[1599]"
   ]
  },
  {
   "cell_type": "code",
   "execution_count": 78,
   "metadata": {
    "collapsed": true
   },
   "outputs": [],
   "source": [
    "# add all words into bag\n",
    "bag_of_words = []\n",
    "for recipe in train.ingredients:\n",
    "    bag_of_words += recipe\n",
    "#     for ingredient in recipe:\n",
    "#         ingredient = word_tokenize(ingredient.lower())\n",
    "#         bag_of_words+=ingredient"
   ]
  },
  {
   "cell_type": "code",
   "execution_count": 79,
   "metadata": {},
   "outputs": [
    {
     "name": "stdout",
     "output_type": "stream",
     "text": [
      "428275\n",
      "['romaine lettuce', 'black olives', 'grape tomatoes', 'garlic', 'pepper', 'purple onion', 'seasoning', 'garbanzo beans', 'feta cheese crumbles', 'plain flour', 'ground pepper', 'salt', 'tomatoes', 'ground black pepper', 'thyme', 'eggs', 'green tomatoes', 'yellow corn meal', 'milk', 'vegetable oil']\n"
     ]
    }
   ],
   "source": [
    "print(len(bag_of_words))\n",
    "print(bag_of_words[0:20])"
   ]
  },
  {
   "cell_type": "code",
   "execution_count": 80,
   "metadata": {
    "collapsed": true
   },
   "outputs": [],
   "source": [
    "bag_of_words = nltk.FreqDist(bag_of_words)"
   ]
  },
  {
   "cell_type": "code",
   "execution_count": 81,
   "metadata": {},
   "outputs": [
    {
     "name": "stdout",
     "output_type": "stream",
     "text": [
      "[('salt', 18049), ('onions', 7972), ('olive oil', 7972), ('water', 7457), ('garlic', 7380), ('sugar', 6434), ('garlic cloves', 6237), ('butter', 4848), ('ground black pepper', 4785), ('all-purpose flour', 4632), ('pepper', 4438), ('vegetable oil', 4385), ('eggs', 3388), ('soy sauce', 3296), ('kosher salt', 3113)]\n"
     ]
    }
   ],
   "source": [
    "print(bag_of_words.most_common(15))"
   ]
  },
  {
   "cell_type": "code",
   "execution_count": 82,
   "metadata": {
    "collapsed": true
   },
   "outputs": [],
   "source": [
    "# Save sorted bag of words and use first 5000 as features\n",
    "word_features = [i[0] for i in bag_of_words.most_common()]\n",
    "word_features = word_features[0:5000]"
   ]
  },
  {
   "cell_type": "code",
   "execution_count": 89,
   "metadata": {
    "collapsed": true
   },
   "outputs": [],
   "source": [
    "# Check if word in recipe list is in word_features\n",
    "def find_features(recipe):\n",
    "    ingredient = set(recipe)\n",
    "    features = {}\n",
    "    for i in word_features:\n",
    "        features[i] = (i in ingredient)\n",
    "    \n",
    "    return features"
   ]
  },
  {
   "cell_type": "code",
   "execution_count": 90,
   "metadata": {
    "collapsed": true
   },
   "outputs": [],
   "source": [
    "feature_set = [(find_features(train.ingredients[i]),train.cuisine[i]) for i in range(len(train))]"
   ]
  },
  {
   "cell_type": "code",
   "execution_count": 99,
   "metadata": {
    "collapsed": true
   },
   "outputs": [],
   "source": [
    "training_set = feature_set[:int(len(feature_set) * 0.8)]\n",
    "testing_set = feature_set[int(len(feature_set) * 0.8):]"
   ]
  },
  {
   "cell_type": "code",
   "execution_count": 107,
   "metadata": {
    "collapsed": true
   },
   "outputs": [],
   "source": [
    "classifier = nltk.NaiveBayesClassifier.train(training_set)"
   ]
  },
  {
   "cell_type": "code",
   "execution_count": 108,
   "metadata": {},
   "outputs": [
    {
     "name": "stdout",
     "output_type": "stream",
     "text": [
      "Classifier accuracy percent: 74.51917033312382\n"
     ]
    }
   ],
   "source": [
    "print(\"Classifier accuracy percent:\",(nltk.classify.accuracy(classifier, testing_set))*100)"
   ]
  },
  {
   "cell_type": "code",
   "execution_count": 109,
   "metadata": {},
   "outputs": [
    {
     "name": "stdout",
     "output_type": "stream",
     "text": [
      "Most Informative Features\n",
      "            garam masala = True           indian : italia =   1200.4 : 1.0\n",
      "              fish sauce = True           vietna : italia =   1176.5 : 1.0\n",
      "                   mirin = True           japane : mexica =   1000.9 : 1.0\n",
      "                    sake = True           japane : italia =    873.9 : 1.0\n",
      "                  ginger = True           chines : italia =    791.2 : 1.0\n",
      "              sesame oil = True           korean : mexica =    735.6 : 1.0\n",
      "          corn tortillas = True           mexica : italia =    624.4 : 1.0\n",
      "             beansprouts = True           vietna : italia =    613.0 : 1.0\n",
      "       andouille sausage = True           cajun_ : italia =    605.2 : 1.0\n",
      "         ground turmeric = True           indian : italia =    602.4 : 1.0\n",
      "              lemongrass = True             thai : italia =    602.3 : 1.0\n",
      "                 peanuts = True             thai : italia =    451.3 : 1.0\n",
      "            hoisin sauce = True           chines : mexica =    412.4 : 1.0\n",
      "            coconut milk = True             thai : italia =    409.6 : 1.0\n",
      "         cajun seasoning = True           cajun_ : mexica =    392.7 : 1.0\n"
     ]
    }
   ],
   "source": [
    "classifier.show_most_informative_features(15)"
   ]
  },
  {
   "cell_type": "code",
   "execution_count": null,
   "metadata": {
    "collapsed": true
   },
   "outputs": [],
   "source": []
  }
 ],
 "metadata": {
  "kernelspec": {
   "display_name": "Python 3",
   "language": "python",
   "name": "python3"
  },
  "language_info": {
   "codemirror_mode": {
    "name": "ipython",
    "version": 3
   },
   "file_extension": ".py",
   "mimetype": "text/x-python",
   "name": "python",
   "nbconvert_exporter": "python",
   "pygments_lexer": "ipython3",
   "version": "3.6.2"
  }
 },
 "nbformat": 4,
 "nbformat_minor": 2
}
